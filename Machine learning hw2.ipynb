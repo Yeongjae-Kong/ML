{
 "cells": [
  {
   "cell_type": "markdown",
   "metadata": {},
   "source": [
    "201911012 Yeong jae Kong"
   ]
  },
  {
   "cell_type": "markdown",
   "metadata": {},
   "source": [
    "(1) For MNIST data set, train Logistic regression models and find the best model that can achieve\n",
    "the highest accuracy on the test data set. Provide the average & standard deviation of all test data."
   ]
  },
  {
   "cell_type": "code",
   "execution_count": 22,
   "metadata": {},
   "outputs": [
    {
     "name": "stdout",
     "output_type": "stream",
     "text": [
      "0.9537037037037037\n",
      "0.9629629629629629\n",
      "0.9537037037037037\n"
     ]
    }
   ],
   "source": [
    "import numpy as np\n",
    "import pandas as pd\n",
    "from sklearn import datasets\n",
    "from sklearn import model_selection\n",
    "from sklearn.linear_model import LogisticRegression\n",
    "from sklearn import metrics\n",
    "\n",
    "dataset = datasets.load_digits()\n",
    "x_data = dataset.data\n",
    "y_data = dataset.target\n",
    "\n",
    "x_train, x_test, y_train, y_test = model_selection.train_test_split(x_data, y_data, test_size=0.3)\n",
    "\n",
    "#general C\n",
    "model = LogisticRegression(max_iter=5000, tol=0.0001, penalty='l2', C=1.0)\n",
    "model.fit(x_train, y_train)\n",
    "y_predict = model.predict(x_test) \n",
    "accuracy = metrics.accuracy_score(y_test, y_predict)\n",
    "print(accuracy)\n",
    "\n",
    "#low C\n",
    "model_2 = LogisticRegression(max_iter=5000, tol=0.0001, penalty='l2', C=0.01)\n",
    "model_2.fit(x_train, y_train)\n",
    "y_predict_2 = model_2.predict(x_test) \n",
    "accuracy_2 = metrics.accuracy_score(y_test, y_predict_2)\n",
    "print(accuracy_2)\n",
    "\n",
    "#high C\n",
    "model_3 = LogisticRegression(max_iter=5000, tol=0.0001, penalty='l2', C=100)\n",
    "model_3.fit(x_train, y_train)\n",
    "y_predict_3 = model_3.predict(x_test) \n",
    "accuracy_3 = metrics.accuracy_score(y_test, y_predict_3)\n",
    "print(accuracy_3)"
   ]
  },
  {
   "cell_type": "markdown",
   "metadata": {},
   "source": [
    "Thus, if C parameter is low, accuracy increases.\n",
    "When C=0.01 shows the highest accuracy(0.9630)."
   ]
  },
  {
   "cell_type": "markdown",
   "metadata": {},
   "source": [
    "(2) For the same data set, train K-NN classifiers and find the best model that can achieve the highest\n",
    "accuracy on the test data set. Provide the average & standard deviation of all test data."
   ]
  },
  {
   "cell_type": "code",
   "execution_count": 36,
   "metadata": {},
   "outputs": [
    {
     "name": "stdout",
     "output_type": "stream",
     "text": [
      "k: 1, accuracy: 0.9888888888888889\n",
      "k: 2, accuracy: 0.9796296296296296\n",
      "k: 3, accuracy: 0.987037037037037\n",
      "k: 4, accuracy: 0.9851851851851852\n",
      "k: 5, accuracy: 0.9833333333333333\n",
      "k: 6, accuracy: 0.9814814814814815\n",
      "k: 7, accuracy: 0.9833333333333333\n",
      "k: 8, accuracy: 0.9814814814814815\n",
      "k: 9, accuracy: 0.9814814814814815\n",
      "k: 10, accuracy: 0.9796296296296296\n"
     ]
    }
   ],
   "source": [
    "from sklearn.neighbors import KNeighborsClassifier\n",
    "model = KNeighborsClassifier(n_neighbors=5, n_jobs=-1)\n",
    "model.fit(x_train, y_train)\n",
    "y_predict = model.predict(x_test)\n",
    "accuracy = metrics.accuracy_score(y_test, y_predict)\n",
    "\n",
    "for k in range(1, 11):\n",
    "    model = KNeighborsClassifier(n_neighbors=k, n_jobs=-1)\n",
    "    model.fit(x_train, y_train)\n",
    "    accuracy = model.score(x_test, y_test)\n",
    "    print('k: {}, accuracy: {}'.format(k, accuracy))"
   ]
  },
  {
   "cell_type": "markdown",
   "metadata": {},
   "source": [
    "k=1 model can achieve the highest accuracy(0.9888) on the test data set."
   ]
  },
  {
   "cell_type": "markdown",
   "metadata": {},
   "source": [
    "(3) For the same data set, train SVM classifiers and find the best model that can achieve the highest\n",
    "accuracy on the test data set. Provide the average & standard deviation of all test data."
   ]
  },
  {
   "cell_type": "code",
   "execution_count": 67,
   "metadata": {},
   "outputs": [
    {
     "name": "stdout",
     "output_type": "stream",
     "text": [
      "0.9796296296296296\n",
      "0.9833333333333333\n",
      "0.9444444444444444\n"
     ]
    }
   ],
   "source": [
    "from sklearn.svm import SVC\n",
    "model = SVC(kernel='linear', C=1.0)\n",
    "model.fit(x_train, y_train)\n",
    "y_predict = model.predict(x_test) \n",
    "accuracy = metrics.accuracy_score(y_test, y_predict)\n",
    "#accuracy = 0.9703703703703703\n",
    "model = SVC(kernel='rbf', C=1.0)\n",
    "model.fit(x_train, y_train)\n",
    "y_predict = model.predict(x_test) \n",
    "accuracy = metrics.accuracy_score(y_test, y_predict)\n",
    "#accuracy = 0.9796296296296296\n",
    "\n",
    "#rbf's accuracy is higher than linear, so we use rbf\n",
    "#then modulate C\n",
    "\n",
    "model = SVC(kernel='rbf', C=1.0)\n",
    "model.fit(x_train, y_train)\n",
    "y_predict = model.predict(x_test) \n",
    "accuracy = metrics.accuracy_score(y_test, y_predict)\n",
    "print(accuracy)\n",
    "model = SVC(kernel='rbf', C=10)\n",
    "model.fit(x_train, y_train)\n",
    "y_predict = model.predict(x_test) \n",
    "accuracy = metrics.accuracy_score(y_test, y_predict)\n",
    "print(accuracy)\n",
    "model = SVC(kernel='rbf', C=0.1)\n",
    "model.fit(x_train, y_train)\n",
    "y_predict = model.predict(x_test) \n",
    "accuracy = metrics.accuracy_score(y_test, y_predict)\n",
    "print(accuracy)"
   ]
  },
  {
   "cell_type": "markdown",
   "metadata": {},
   "source": [
    "When I use linear SVC, accuracy is 0.9704 but rbf SVC's accuracy is 0.9796.\n",
    "SVM model that kernel='rbf' and C = 10 can achieve the highest accuracy on the test data set.(0.9833)"
   ]
  },
  {
   "cell_type": "markdown",
   "metadata": {},
   "source": [
    "(4) For the same data set, train Random forest classifiers and find the best model that can achieve the highest accuracy on the test data set. Provide the average & standard deviation of all test data."
   ]
  },
  {
   "cell_type": "code",
   "execution_count": 79,
   "metadata": {},
   "outputs": [
    {
     "name": "stdout",
     "output_type": "stream",
     "text": [
      "Optimal hyper parameter:  {'max_depth': 8, 'min_samples_leaf': 3, 'min_samples_split': 2, 'n_estimators': 100}\n",
      "Highest prediction accuracy: 0.964200\n",
      "0.9703703703703703\n"
     ]
    }
   ],
   "source": [
    "from sklearn.ensemble import RandomForestClassifier\n",
    "from sklearn.model_selection import GridSearchCV\n",
    "\n",
    "#Search parameter that show the highest accuracy by GridSearchCV\n",
    "\n",
    "params = { 'n_estimators' : [10, 100],\n",
    "           'max_depth' : [4, 6, 8, 10, 12],\n",
    "           'min_samples_leaf' : [3, 5, 7],\n",
    "           'min_samples_split' : [2, 3, 5]\n",
    "            }\n",
    "\n",
    "#The higher the n_estimators is the better, but it takes a long time, so adjust it appropriately.\n",
    "\n",
    "rf_clf = RandomForestClassifier(random_state = 0, n_jobs = -1)\n",
    "grid_cv = GridSearchCV(rf_clf, param_grid = params, cv = 3, n_jobs = -1)\n",
    "grid_cv.fit(x_train, y_train)\n",
    "\n",
    "print('Optimal hyper parameter: ', grid_cv.best_params_)\n",
    "print('Highest prediction accuracy: {:.6f}'.format(grid_cv.best_score_))\n",
    "\n",
    "model = RandomForestClassifier(max_depth=8, min_samples_leaf=3, min_samples_split=2, n_estimators=100)\n",
    "model.fit(x_train, y_train)\n",
    "y_predict = model.predict(x_test) \n",
    "accuracy = metrics.accuracy_score(y_test, y_predict)\n",
    "print(accuracy)"
   ]
  },
  {
   "cell_type": "markdown",
   "metadata": {},
   "source": [
    "As a result of comparing parameter values through GridsearchCV, the optimal parameter values that show highest accuracy are 'max_depth': 8,'min_samples_leaf': 3,'min_samples_split': 2, and'n_estimators': 100. the accuracy is 0.9704"
   ]
  },
  {
   "cell_type": "markdown",
   "metadata": {},
   "source": [
    "| - |Logistic regression|KNN classifiers|SVM|RandomForestClassifier|\n",
    "|---|---|---|---|---|\n",
    "|Accuracy|96.30%|98.88%|98.33%|97.04%|"
   ]
  }
 ],
 "metadata": {
  "kernelspec": {
   "display_name": "Python 3",
   "language": "python",
   "name": "python3"
  },
  "language_info": {
   "codemirror_mode": {
    "name": "ipython",
    "version": 3
   },
   "file_extension": ".py",
   "mimetype": "text/x-python",
   "name": "python",
   "nbconvert_exporter": "python",
   "pygments_lexer": "ipython3",
   "version": "3.7.6"
  }
 },
 "nbformat": 4,
 "nbformat_minor": 4
}
